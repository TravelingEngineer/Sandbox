{
  "nbformat": 4,
  "nbformat_minor": 0,
  "metadata": {
    "colab": {
      "name": "Copy of Audio_Processing.ipynb",
      "version": "0.3.2",
      "provenance": [],
      "include_colab_link": true
    },
    "kernelspec": {
      "name": "python3",
      "display_name": "Python 3"
    }
  },
  "cells": [
    {
      "cell_type": "markdown",
      "metadata": {
        "id": "view-in-github",
        "colab_type": "text"
      },
      "source": [
        "<a href=\"https://colab.research.google.com/github/TravelingEngineer/Sandbox/blob/master/Audio_Processing.ipynb\" target=\"_parent\"><img src=\"https://colab.research.google.com/assets/colab-badge.svg\" alt=\"Open In Colab\"/></a>"
      ]
    },
    {
      "metadata": {
        "id": "ZjRl2Pa1HlAc",
        "colab_type": "text"
      },
      "cell_type": "markdown",
      "source": [
        "**Install Dependencies**"
      ]
    },
    {
      "metadata": {
        "id": "JSLiD7x5Hbib",
        "colab_type": "code",
        "colab": {}
      },
      "cell_type": "code",
      "source": [
        "#!pip install PyDrive"
      ],
      "execution_count": 0,
      "outputs": []
    },
    {
      "metadata": {
        "id": "Cpek9l1FHpTl",
        "colab_type": "text"
      },
      "cell_type": "markdown",
      "source": [
        "**Import Libraries and Methods**"
      ]
    },
    {
      "metadata": {
        "id": "vdIgeN3YHuBD",
        "colab_type": "code",
        "colab": {}
      },
      "cell_type": "code",
      "source": [
        "import os\n",
        "#from pydrive.auth import GoogleAuth\n",
        "#from pydrive.drive import GoogleDrive\n",
        "from google.colab import auth\n",
        "#from oauth2client.client import GoogleCredentials\n",
        "\n",
        "import numpy as np\n",
        "from IPython.display import Audio\n",
        "from scipy.io import wavfile\n",
        "from scipy import signal\n",
        "import matplotlib.pyplot as plt\n",
        "import math\n",
        "#from python_speech_features import mfcc\n",
        "#from python_speech_features import logfbank\n",
        "#from python_speech_features import fbank\n",
        "#%matplotlib inline\n",
        "from numpy import mean, sqrt, square, arange\n",
        "#import sounddevice as sd\n",
        "#from tqdm import tnrange, tqdm_notebook\n",
        "#from time import sleep\n",
        "#import wave"
      ],
      "execution_count": 0,
      "outputs": []
    },
    {
      "metadata": {
        "id": "yiRzpTerHu00",
        "colab_type": "text"
      },
      "cell_type": "markdown",
      "source": [
        "**Google SDK Authorization**"
      ]
    },
    {
      "metadata": {
        "id": "riwg7jQjHwGE",
        "colab_type": "code",
        "colab": {}
      },
      "cell_type": "code",
      "source": [
        "#mount google drive to collaboratory\n",
        "#auth.authenticate_user()\n",
        "#gauth = GoogleAuth()\n",
        "#gauth.credentials = GoogleCredentials.get_application_default()\n",
        "#drive = GoogleDrive(gauth)"
      ],
      "execution_count": 0,
      "outputs": []
    },
    {
      "metadata": {
        "id": "JxytCnDKHx3M",
        "colab_type": "text"
      },
      "cell_type": "markdown",
      "source": [
        "**Download from Google Drive**"
      ]
    },
    {
      "metadata": {
        "id": "Tjt1tJupHzHk",
        "colab_type": "code",
        "colab": {}
      },
      "cell_type": "code",
      "source": [
        "#https://drive.google.com/open?id=YOUR_FILE_ID (only copy your file ID part)\n",
        "download = drive.CreateFile({'id': '1h7muW_7LLxq45gDTvOJeTs2idUVFZGjH'})\n",
        "download.GetContentFile('Training_Data_44_16_Mono_P1.wav')"
      ],
      "execution_count": 0,
      "outputs": []
    },
    {
      "metadata": {
        "id": "WksdrlvxH3fc",
        "colab_type": "text"
      },
      "cell_type": "markdown",
      "source": [
        "**Write Audio To Array**"
      ]
    },
    {
      "metadata": {
        "id": "sIBU4xuxH4rj",
        "colab_type": "code",
        "colab": {}
      },
      "cell_type": "code",
      "source": [
        "file_speech = 'Training_Data_44_16_Mono_P1.wav'\n",
        "fs, sig_speech = wavfile.read(file_speech)\n",
        "sig_speech = sig_speech.astype(np.float) #converts wavefile from read only to write access\n",
        "sig_speech /= 2**15 #converts 16 bit wavefile "
      ],
      "execution_count": 0,
      "outputs": []
    },
    {
      "metadata": {
        "id": "5fIAZ59jH6-N",
        "colab_type": "text"
      },
      "cell_type": "markdown",
      "source": [
        "**Random Sample of Wave File**"
      ]
    },
    {
      "metadata": {
        "id": "PDy5_iZqH9DM",
        "colab_type": "code",
        "colab": {}
      },
      "cell_type": "code",
      "source": [
        ""
      ],
      "execution_count": 0,
      "outputs": []
    },
    {
      "metadata": {
        "id": "Sl0KJLLHIALj",
        "colab_type": "text"
      },
      "cell_type": "markdown",
      "source": [
        "**Generate Exponential Decay Curve With White Noise**"
      ]
    },
    {
      "metadata": {
        "id": "jWlolINeICSz",
        "colab_type": "code",
        "colab": {}
      },
      "cell_type": "code",
      "source": [
        "framerate = 44100\n",
        "t = np.linspace(0,5,4*framerate)\n",
        "#data = np.sin(2*np.pi*t)\n",
        "Rt=1.7\n",
        "Tau=Rt/2\n",
        "data=np.exp(-t/Tau)\n",
        "noise = np.random.normal(0, 1, len(t)) #random samples from a gaussian distribution\n",
        "noise /= np.max(noise) #normalizes gaussian noise \n",
        "noisy_data= data*noise"
      ],
      "execution_count": 0,
      "outputs": []
    },
    {
      "metadata": {
        "id": "L4r6AuVqIELL",
        "colab_type": "text"
      },
      "cell_type": "markdown",
      "source": [
        "**Plot Wavefile**"
      ]
    },
    {
      "metadata": {
        "id": "Gcxr95B5IJKL",
        "colab_type": "code",
        "colab": {}
      },
      "cell_type": "code",
      "source": [
        "plt.plot(noisy_data)\n",
        "#plt.ylabel('some numbers')\n",
        "plt.show()"
      ],
      "execution_count": 0,
      "outputs": []
    },
    {
      "metadata": {
        "id": "IaQmY-NBIKzc",
        "colab_type": "text"
      },
      "cell_type": "markdown",
      "source": [
        ""
      ]
    },
    {
      "metadata": {
        "id": "rTOh8vuMIMb8",
        "colab_type": "code",
        "colab": {}
      },
      "cell_type": "code",
      "source": [
        "#OAuth client 183385823795-lffoe853dqv4f86rme7mlkiiiv29kfn3.apps.googleusercontent.com\n",
        "#client Secret EYdqeHwhuwZrMLh89eRAvaky\n",
        "\n",
        "Audio(noisy_data,rate=fs,autoplay=False)\n",
        "\n",
        "uploaded = drive.CreateFile({'title': 'test.wav'})\n",
        "uploaded.SetContentString('Training_Data_44_16_Mono_P1.wav')\n",
        "uploaded.Upload()\n",
        "print('Uploaded file with ID {}'.format(uploaded.get('id')))\n",
        "\n",
        "#upload = drive.CreateFile({'title': 'test.wav'})\n",
        "#upload.SetContentFile('noise.wav')\n",
        "#upload.Upload()"
      ],
      "execution_count": 0,
      "outputs": []
    }
  ]
}