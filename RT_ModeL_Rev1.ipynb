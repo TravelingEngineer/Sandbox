{
  "nbformat": 4,
  "nbformat_minor": 0,
  "metadata": {
    "colab": {
      "name": "RT_ModeL_Rev1",
      "version": "0.3.2",
      "provenance": [],
      "collapsed_sections": [],
      "include_colab_link": true
    },
    "kernelspec": {
      "name": "python2",
      "display_name": "Python 2"
    },
    "accelerator": "GPU"
  },
  "cells": [
    {
      "cell_type": "markdown",
      "metadata": {
        "id": "view-in-github",
        "colab_type": "text"
      },
      "source": [
        "<a href=\"https://colab.research.google.com/github/TravelingEngineer/Sandbox/blob/master/RT_ModeL_Rev1.ipynb\" target=\"_parent\"><img src=\"https://colab.research.google.com/assets/colab-badge.svg\" alt=\"Open In Colab\"/></a>"
      ]
    },
    {
      "metadata": {
        "id": "R7yn5YLCYTbG",
        "colab_type": "text"
      },
      "cell_type": "markdown",
      "source": [
        "# Tensorboard Config"
      ]
    },
    {
      "metadata": {
        "id": "FV1DmspiYjEo",
        "colab_type": "text"
      },
      "cell_type": "markdown",
      "source": [
        "**Unpack Ngrok**"
      ]
    },
    {
      "metadata": {
        "id": "V3Uxr6BgYi1i",
        "colab_type": "code",
        "outputId": "0275bde4-00eb-4189-9b47-5ae68b3116a5",
        "colab": {
          "base_uri": "https://localhost:8080/",
          "height": 250
        }
      },
      "cell_type": "code",
      "source": [
        "!wget https://bin.equinox.io/c/4VmDzA7iaHb/ngrok-stable-linux-amd64.zip\n",
        "!unzip ngrok-stable-linux-amd64.zip"
      ],
      "execution_count": 73,
      "outputs": [
        {
          "output_type": "stream",
          "text": [
            "--2019-03-25 02:30:16--  https://bin.equinox.io/c/4VmDzA7iaHb/ngrok-stable-linux-amd64.zip\n",
            "Resolving bin.equinox.io (bin.equinox.io)... 34.204.22.7, 34.226.180.131, 52.72.145.109, ...\n",
            "Connecting to bin.equinox.io (bin.equinox.io)|34.204.22.7|:443... connected.\n",
            "HTTP request sent, awaiting response... 200 OK\n",
            "Length: 13584026 (13M) [application/octet-stream]\n",
            "Saving to: ‘ngrok-stable-linux-amd64.zip.2’\n",
            "\n",
            "ngrok-stable-linux- 100%[===================>]  12.95M  6.41MB/s    in 2.0s    \n",
            "\n",
            "2019-03-25 02:30:19 (6.41 MB/s) - ‘ngrok-stable-linux-amd64.zip.2’ saved [13584026/13584026]\n",
            "\n",
            "Archive:  ngrok-stable-linux-amd64.zip\n",
            "replace ngrok? [y]es, [n]o, [A]ll, [N]one, [r]ename: y\n",
            "  inflating: ngrok                   \n"
          ],
          "name": "stdout"
        }
      ]
    },
    {
      "metadata": {
        "id": "2bA0tIPjYrRG",
        "colab_type": "text"
      },
      "cell_type": "markdown",
      "source": [
        "**Start Tensorboard**"
      ]
    },
    {
      "metadata": {
        "id": "_a74fK8nYtcL",
        "colab_type": "code",
        "colab": {}
      },
      "cell_type": "code",
      "source": [
        "LOG_DIR = './log'\n",
        "get_ipython().system_raw(\n",
        "    'tensorboard --logdir {} --host 0.0.0.0 --port 6006 &'\n",
        "    .format(LOG_DIR)\n",
        ")"
      ],
      "execution_count": 0,
      "outputs": []
    },
    {
      "metadata": {
        "id": "QPOvkgiMYvqN",
        "colab_type": "text"
      },
      "cell_type": "markdown",
      "source": [
        "**Start Ngrok**"
      ]
    },
    {
      "metadata": {
        "id": "OaE0mGYGYyN6",
        "colab_type": "code",
        "colab": {}
      },
      "cell_type": "code",
      "source": [
        "get_ipython().system_raw('./ngrok http 6006 &')"
      ],
      "execution_count": 0,
      "outputs": []
    },
    {
      "metadata": {
        "id": "zPPuuWWYYzyG",
        "colab_type": "text"
      },
      "cell_type": "markdown",
      "source": [
        "**Retrieve URL for Tensorboard**"
      ]
    },
    {
      "metadata": {
        "id": "ugLgYN6IY2E-",
        "colab_type": "code",
        "outputId": "2ab631ec-ddce-4781-86ab-b1a1fca63616",
        "colab": {
          "base_uri": "https://localhost:8080/",
          "height": 33
        }
      },
      "cell_type": "code",
      "source": [
        "#click on link generated to open Tensorboard\n",
        "! curl -s http://localhost:4040/api/tunnels | python3 -c \\\n",
        "    \"import sys, json; print(json.load(sys.stdin)['tunnels'][0]['public_url'])\""
      ],
      "execution_count": 76,
      "outputs": [
        {
          "output_type": "stream",
          "text": [
            "https://6b4423d8.ngrok.io\n"
          ],
          "name": "stdout"
        }
      ]
    },
    {
      "metadata": {
        "id": "0jkzgznTZPpA",
        "colab_type": "code",
        "colab": {}
      },
      "cell_type": "code",
      "source": [
        "#tensorflow specific libraries\n",
        "import tensorflow as tf\n",
        "from tensorflow.python.data import Dataset\n",
        "import keras\n",
        "from keras        import metrics\n",
        "from keras.layers import Input, Dense, Flatten\n",
        "from keras.layers import Conv1D, MaxPooling1D\n",
        "from keras.models import Sequential\n",
        "from keras.callbacks import TensorBoard\n",
        "\n",
        "#tf.enable_eager_execution() #tf.placeholder not compatible with eager execution, used for autoencoder\n",
        "\n",
        "tf.logging.set_verbosity(tf.logging.ERROR) #sets threshold for what is logged in tenserflow"
      ],
      "execution_count": 0,
      "outputs": []
    },
    {
      "metadata": {
        "id": "qcZ9agXql3hR",
        "colab_type": "text"
      },
      "cell_type": "markdown",
      "source": [
        "**Clear Tensorboard Records Directory**"
      ]
    },
    {
      "metadata": {
        "id": "OhnG15Pzl2ZJ",
        "colab_type": "code",
        "colab": {}
      },
      "cell_type": "code",
      "source": [
        "!rm -rf log"
      ],
      "execution_count": 0,
      "outputs": []
    },
    {
      "metadata": {
        "id": "HGA1amJJC96t",
        "colab_type": "text"
      },
      "cell_type": "markdown",
      "source": [
        "# Colaboratory Config"
      ]
    },
    {
      "metadata": {
        "id": "2Hsq_B0sJ0tY",
        "colab_type": "text"
      },
      "cell_type": "markdown",
      "source": [
        "**Import Libraries and Methods**"
      ]
    },
    {
      "metadata": {
        "id": "MdPphJw7I02c",
        "colab_type": "code",
        "colab": {}
      },
      "cell_type": "code",
      "source": [
        "from __future__ import division #import python 3 updates for floating point division\n",
        "from __future__ import print_function\n",
        "\n",
        "import os\n",
        "import math\n",
        "\n",
        "from IPython.display import Audio\n",
        "from scipy.io import wavfile\n",
        "from scipy import signal\n",
        "from matplotlib import cm\n",
        "from matplotlib import gridspec\n",
        "from matplotlib.colors import LogNorm\n",
        "from matplotlib.ticker import MaxNLocator\n",
        "import matplotlib.pyplot as plt\n",
        "\n",
        "import datetime\n",
        "import numpy as np\n",
        "from numpy import mean, sqrt, square, arange\n",
        "import random\n",
        "import numpy.random \n",
        "from sklearn import metrics"
      ],
      "execution_count": 0,
      "outputs": []
    },
    {
      "metadata": {
        "id": "dPECCOMaKKdx",
        "colab_type": "text"
      },
      "cell_type": "markdown",
      "source": [
        "**Google Drive Configuration **"
      ]
    },
    {
      "metadata": {
        "id": "E7csFSruKUS3",
        "colab_type": "code",
        "outputId": "65f41d0c-0d0e-4535-8b61-cc8ef200aeca",
        "colab": {
          "base_uri": "https://localhost:8080/",
          "height": 33
        }
      },
      "cell_type": "code",
      "source": [
        "from google.colab import auth\n",
        "from google.colab import files\n",
        "#email Collins.AE6@gmail.com\n",
        "#pswd machine_learning610\n",
        "from google.colab import drive\n",
        "drive.mount('/content/drive')\n",
        "\n",
        "#Upload data from GoogleDrive\n",
        "gDrive= '/content/drive/My Drive/Training_Database/gaussian_database/'"
      ],
      "execution_count": 42,
      "outputs": [
        {
          "output_type": "stream",
          "text": [
            "Drive already mounted at /content/drive; to attempt to forcibly remount, call drive.mount(\"/content/drive\", force_remount=True).\n"
          ],
          "name": "stdout"
        }
      ]
    },
    {
      "metadata": {
        "id": "Ihk-dkHWDEx1",
        "colab_type": "text"
      },
      "cell_type": "markdown",
      "source": [
        "# Audio File Processing"
      ]
    },
    {
      "metadata": {
        "id": "lXjfyCiYbdl5",
        "colab_type": "code",
        "outputId": "a986e655-a700-4dda-f573-590622220234",
        "colab": {
          "base_uri": "https://localhost:8080/",
          "height": 166
        }
      },
      "cell_type": "code",
      "source": [
        "#check for data\n",
        "!ls \"/content/drive/My Drive/Training_Database/gaussian_database/\""
      ],
      "execution_count": 65,
      "outputs": [
        {
          "output_type": "stream",
          "text": [
            " prediction_database_convolved_speech.npy\n",
            " prediction_database_gaussian_impulse.npy\n",
            " prediction_database_rt_random.npy\n",
            " training_database_convolved_speech.npy\n",
            " training_database_gaussian_impulse.npy\n",
            " training_database_rt_random.npy\n",
            "'validation_database_convolved_speech (1).npy'\n",
            " validation_database_gaussian_impulse.npy\n",
            " validation_database_rt_random.npy\n"
          ],
          "name": "stdout"
        }
      ]
    },
    {
      "metadata": {
        "id": "k26uyzazKrTa",
        "colab_type": "text"
      },
      "cell_type": "markdown",
      "source": [
        "**Load databases**"
      ]
    },
    {
      "metadata": {
        "id": "OJ7CPoUCUbHc",
        "colab_type": "code",
        "colab": {}
      },
      "cell_type": "code",
      "source": [
        "#load convolved speech databases\n",
        "training = gDrive+'training_database_convolved_speech.npy'\n",
        "training_database_convolved_speech = np.load(training)\n",
        "\n",
        "validation = gDrive+'validation_database_convolved_speech (1).npy'\n",
        "validation_database_convolved_speech = np.load(validation)\n",
        "\n",
        "prediction = gDrive+'prediction_database_convolved_speech.npy'\n",
        "prediction_database_convolved_speech = np.load(prediction)"
      ],
      "execution_count": 0,
      "outputs": []
    },
    {
      "metadata": {
        "id": "FqVe9Ll6KpeW",
        "colab_type": "code",
        "colab": {}
      },
      "cell_type": "code",
      "source": [
        "#load reverberation time database\n",
        "training_rt = gDrive+'training_database_rt_random.npy'\n",
        "training_database_rt_random = np.load(training_rt)\n",
        "\n",
        "validation_rt = gDrive+'validation_database_rt_random.npy'\n",
        "validation_database_rt_random = np.load(validation_rt)\n",
        "\n",
        "prediction_rt = gDrive+'prediction_database_rt_random.npy'\n",
        "prediction_database_rt_random = np.load(prediction_rt)"
      ],
      "execution_count": 0,
      "outputs": []
    },
    {
      "metadata": {
        "id": "BI6nxmf7wlHA",
        "colab_type": "code",
        "colab": {
          "base_uri": "https://localhost:8080/",
          "height": 74
        },
        "outputId": "07102b07-301c-4db2-837e-a5b2ac12df79"
      },
      "cell_type": "code",
      "source": [
        "fs = 16000\n",
        "Audio(prediction_database_convolved_speech[25], rate=fs)"
      ],
      "execution_count": 84,
      "outputs": [
        {
          "output_type": "execute_result",
          "data": {
            "text/html": [
              "\n",
              "                <audio controls=\"controls\" >\n",
              "                    <source src=\"data:audio/wav;base64,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\" type=\"audio/wav\" />\n",
              "                    Your browser does not support the audio element.\n",
              "                </audio>\n",
              "              "
            ],
            "text/plain": [
              "<IPython.lib.display.Audio object>"
            ]
          },
          "metadata": {
            "tags": []
          },
          "execution_count": 84
        }
      ]
    },
    {
      "metadata": {
        "id": "6uF6aOl0_1wN",
        "colab_type": "text"
      },
      "cell_type": "markdown",
      "source": [
        "# Take Signal Envelope"
      ]
    },
    {
      "metadata": {
        "id": "9foHMKdr_8uC",
        "colab_type": "text"
      },
      "cell_type": "markdown",
      "source": [
        "**Apply Hilbert Transform**"
      ]
    },
    {
      "metadata": {
        "id": "FpbSU_K5__b9",
        "colab_type": "code",
        "colab": {}
      },
      "cell_type": "code",
      "source": [
        "#original audio file\n",
        "#fig = plt.figure()\n",
        "#axes1 = fig.add_subplot(111) #set props for left y-axis here\n",
        "\n",
        "#axes1.set_ylabel('original convolved file')\n",
        "#axes2 = axes1.twinx() #mirror axis\n",
        "#axes2.set_ylabel('phase angle')\n",
        "\n",
        "#plot original file\n",
        "#plt.plot(speech_convolved, label = 'original file', color = 'black', alpha = 1)\n",
        "\n",
        "##############analytical_impulse = signal.hilbert(speech_convolved_even, axis=1)\n",
        "#plt.plot(analytical_impulse.real, label = 'analytic real part', color = 'red', alpha = 0.5)\n",
        "#plt.plot(analytical_impulse.imag, label = 'analytic imaginary part', color = 'blue', alpha = 0.5)\n",
        "\n",
        "##############envelope_analytical_impulse = np.abs(analytical_impulse)\n",
        "##############plt.plot(envelope_analytical_impulse[0], label = 'analytic envelope', color = 'red', alpha = 0.5)\n",
        "\n",
        "#phase_radians =np.angle(analytical_impulse)\n",
        "#phase_angle = np.cos(phase_radians)\n",
        "#plt.plot(phase_angle, label = 'phase angle', color = 'blue', alpha = 0.5)\n",
        "\n",
        "#display settings\n",
        "#plt.ylabel('Impulse Response')\n",
        "##############plt.xlabel('Time [samples]')\n",
        "##############plt.legend()\n",
        "\n",
        "#calculates segement of file to display\n",
        "#time = 2 #in seconds\n",
        "#points_to_plot = fs*time\n",
        "#plt.xlim(0.014*fs,0.025*fs) #(0.014*fs,0.025*fs)\n",
        "#plt.ylim(-0.1,0.1)\n",
        "\n",
        "##############plt.show()"
      ],
      "execution_count": 0,
      "outputs": []
    },
    {
      "metadata": {
        "id": "46NL1uub_2AK",
        "colab_type": "text"
      },
      "cell_type": "markdown",
      "source": [
        "# Dimensionality Reduction"
      ]
    },
    {
      "metadata": {
        "id": "BGmxALasenWK",
        "colab_type": "text"
      },
      "cell_type": "markdown",
      "source": [
        "**Output Files**"
      ]
    },
    {
      "metadata": {
        "id": "gW6nvorjizez",
        "colab_type": "text"
      },
      "cell_type": "markdown",
      "source": [
        "**Autoencoder Config**"
      ]
    },
    {
      "metadata": {
        "id": "u94hXbRqjPhp",
        "colab_type": "code",
        "colab": {}
      },
      "cell_type": "code",
      "source": [
        "#264599/1024"
      ],
      "execution_count": 0,
      "outputs": []
    },
    {
      "metadata": {
        "id": "8UmyJXKJi6U1",
        "colab_type": "code",
        "colab": {}
      },
      "cell_type": "code",
      "source": [
        "# size of encoded representations\n",
        "#encoding_dim = 1024 #1024 floats -> compression factor 258.4, w/ input 264599 float convolved audio file\n",
        "\n",
        "# input placeholder\n",
        "#input_initalization = Input(shape=(264599,))\n",
        "# \"encoded\" is representation of input\n",
        "#encoded = Dense(encoding_dim, activation='relu')(input_initalization)\n",
        "\n",
        "#dense layer with regularizer (sparsity constraint)\n",
        "#encoded = Dense(encoding_dim, activation='relu',\n",
        "               #activity_regularizer=regularizers.l1(10e-5))(input_img)\n",
        "# \"decoded\" is lossy reconstruction of input\n",
        "#decoded = Dense(264599, activation='sigmoid')(encoded)\n",
        "\n",
        "#this model maps an input to reconstruction represenation\n",
        "#autoencoder = Model(input_initalization,decoded)\n",
        "#this model maps an input to encoded represenation\n",
        "#encoder = Model(input_initalization,encoded)\n",
        "#create a placeholder for encoded (1024-dimensional) input\n",
        "#encoded_input = Input(shape=(encoding_dim,))\n",
        "# retrieve the last layer of the autoencoder model\n",
        "#decoder_layer = autoencoder.layers[-1]\n",
        "#create the decoder model\n",
        "#decoder = Model(encoded_input, decoder_layer(encoded_input))"
      ],
      "execution_count": 0,
      "outputs": []
    },
    {
      "metadata": {
        "id": "ZSwOeCTsk3-_",
        "colab_type": "text"
      },
      "cell_type": "markdown",
      "source": [
        "**Optimizer Configuration**"
      ]
    },
    {
      "metadata": {
        "id": "IP51a-U6k8fi",
        "colab_type": "code",
        "colab": {}
      },
      "cell_type": "code",
      "source": [
        "#autoencoder.compile(optimizer='adadelta', loss='binary_crossentropy') #optimizer options adam, adadelta"
      ],
      "execution_count": 0,
      "outputs": []
    },
    {
      "metadata": {
        "id": "2Duqo_O_oX8-",
        "colab_type": "text"
      },
      "cell_type": "markdown",
      "source": [
        "**Partition dataset into training and test sets**"
      ]
    },
    {
      "metadata": {
        "id": "6K-Qj3pQm5Mw",
        "colab_type": "code",
        "colab": {}
      },
      "cell_type": "code",
      "source": [
        "# first 15 files (out of 20) for training\n",
        "#training_examples = speech_convolved[0:9,:] #grabs first part of data\n",
        "#training_targets = speech_convolved[10:15,:] #grabs end part of data"
      ],
      "execution_count": 0,
      "outputs": []
    },
    {
      "metadata": {
        "id": "BvFHMcZsribK",
        "colab_type": "text"
      },
      "cell_type": "markdown",
      "source": [
        "Autoencoder training"
      ]
    },
    {
      "metadata": {
        "id": "li-IA2Ryrhvn",
        "colab_type": "code",
        "colab": {}
      },
      "cell_type": "code",
      "source": [
        "#training for 5 epochs\n",
        "#autoencoder.fit(training_examples, training_examples,\n",
        "               #epochs=5,\n",
        "               #batch_size=256,\n",
        "               #shuffle=True,\n",
        "               #validation_data=(training_targets, training_targets))"
      ],
      "execution_count": 0,
      "outputs": []
    },
    {
      "metadata": {
        "id": "i3xj6l1C4xlh",
        "colab_type": "text"
      },
      "cell_type": "markdown",
      "source": [
        "# Convolution Neural Network"
      ]
    },
    {
      "metadata": {
        "id": "uRUT5tOSEnUH",
        "colab_type": "text"
      },
      "cell_type": "markdown",
      "source": [
        "**Format Datasets For Convolution**"
      ]
    },
    {
      "metadata": {
        "id": "uiVBgHPAayix",
        "colab_type": "code",
        "colab": {
          "base_uri": "https://localhost:8080/",
          "height": 33
        },
        "outputId": "327d9b6d-87cc-4beb-c3aa-e8fd7014382e"
      },
      "cell_type": "code",
      "source": [
        "training_database_convolved_speech.shape"
      ],
      "execution_count": 47,
      "outputs": [
        {
          "output_type": "execute_result",
          "data": {
            "text/plain": [
              "(500, 64000)"
            ]
          },
          "metadata": {
            "tags": []
          },
          "execution_count": 47
        }
      ]
    },
    {
      "metadata": {
        "id": "Zr-2lAhO6M0E",
        "colab_type": "code",
        "colab": {}
      },
      "cell_type": "code",
      "source": [
        "\n",
        "number_of_features = 1 #feature number for CNN input, since univariant time series only 1 feature\n",
        "cnn_sequence_length = 4*16000 #timesteps for CNN nextwork per sample, map over each entire sample\n",
        "\n",
        "input_database = training_database_convolved_speech\n",
        "input_database = input_database[:,:,np.newaxis]\n",
        "output_database = training_database_rt_random\n",
        "\n",
        "validation_input = validation_database_convolved_speech\n",
        "validation_input = validation_input[:,:,np.newaxis]\n",
        "\n",
        "validation_output = validation_database_rt_random\n",
        "\n",
        "prediction_input = prediction_database_convolved_speech\n",
        "prediction_input = prediction_input[:,:,np.newaxis]"
      ],
      "execution_count": 0,
      "outputs": []
    },
    {
      "metadata": {
        "id": "AYawJAwvhaSK",
        "colab_type": "code",
        "outputId": "915eef0b-8df9-4ee0-f938-7689971dc2f6",
        "colab": {
          "base_uri": "https://localhost:8080/",
          "height": 33
        }
      },
      "cell_type": "code",
      "source": [
        "input_database.shape"
      ],
      "execution_count": 60,
      "outputs": [
        {
          "output_type": "execute_result",
          "data": {
            "text/plain": [
              "(500, 64000, 1)"
            ]
          },
          "metadata": {
            "tags": []
          },
          "execution_count": 60
        }
      ]
    },
    {
      "metadata": {
        "id": "sJyIWlxWdPch",
        "colab_type": "text"
      },
      "cell_type": "markdown",
      "source": [
        "# Neural Network Configuration"
      ]
    },
    {
      "metadata": {
        "id": "DbJReDQqdEon",
        "colab_type": "text"
      },
      "cell_type": "markdown",
      "source": [
        "**Declare Model Type**"
      ]
    },
    {
      "metadata": {
        "id": "n0JKwHAHdGyf",
        "colab_type": "code",
        "colab": {}
      },
      "cell_type": "code",
      "source": [
        "model = Sequential() #stacked layers of neural network"
      ],
      "execution_count": 0,
      "outputs": []
    },
    {
      "metadata": {
        "id": "2_WcMMRya5IA",
        "colab_type": "text"
      },
      "cell_type": "markdown",
      "source": [
        "**Convolution Layer #1**"
      ]
    },
    {
      "metadata": {
        "id": "QFOL0kDDa8U5",
        "colab_type": "code",
        "colab": {}
      },
      "cell_type": "code",
      "source": [
        "#adds a 1D convolutional layer, 1 dimension (temporal) on raw audio\n",
        "#config is 32 output chanels, \n",
        "#kernal size is 5x5 moving window, \n",
        "#strides in x and y directions (1,1)\n",
        "#rectilinear activation function, provide size of input to the layer, size only required for first \n",
        "#layer after that keras can calculate size of tensors\n",
        "#in keras don't need to declare weights or biases variables, done for you with program\n",
        "\n",
        "model.add(Conv1D(256, \n",
        "                 kernel_size=400,        #setup window size to be equal to strides for no overlap    \n",
        "                 strides= 400,            #25ms stride window with 16kHz sampling rate gives a window ever 400 points for a total of 240 windows.     \n",
        "                 activation='relu',           #rectilinear activation function\n",
        "                 input_shape=(cnn_sequence_length,number_of_features))) #training_data.shape[0]) input_shape = (img_x, img_y, 1)"
      ],
      "execution_count": 0,
      "outputs": []
    },
    {
      "metadata": {
        "id": "arSNoOHba-pH",
        "colab_type": "text"
      },
      "cell_type": "markdown",
      "source": [
        "**Pooling Layer #1**"
      ]
    },
    {
      "metadata": {
        "id": "piyMt1BXbAy5",
        "colab_type": "code",
        "colab": {}
      },
      "cell_type": "code",
      "source": [
        "model.add(MaxPooling1D(pool_size=(64), strides=(1))) #setup pooling layer, size of pooling in x, y dimensions and strides in x,y"
      ],
      "execution_count": 0,
      "outputs": []
    },
    {
      "metadata": {
        "id": "A6ohnWLnbCKh",
        "colab_type": "text"
      },
      "cell_type": "markdown",
      "source": [
        "**Convolution Layer #2**"
      ]
    },
    {
      "metadata": {
        "id": "i5jEBoJcbEkf",
        "colab_type": "code",
        "colab": {}
      },
      "cell_type": "code",
      "source": [
        "model.add(Conv1D(32, \n",
        "                 kernel_size=(1),        #setup window size to be equal to strides for no overlap    \n",
        "                 strides=(1),            #25ms stride window with 16kHz sampling rate gives a window ever 400 points for a total of 240 windows.     \n",
        "                 activation='relu'))          #rectilinear activation function\n",
        "                                              #shape is tracked in Keras after initializing so no need to specify input shape again."
      ],
      "execution_count": 0,
      "outputs": []
    },
    {
      "metadata": {
        "id": "ef2m9B5LeRiy",
        "colab_type": "text"
      },
      "cell_type": "markdown",
      "source": [
        "**Pooling Layer #2**"
      ]
    },
    {
      "metadata": {
        "id": "sIlBbsNaeW-J",
        "colab_type": "code",
        "colab": {}
      },
      "cell_type": "code",
      "source": [
        "model.add(MaxPooling1D(pool_size=(16), strides=(1))) #setup pooling layer, size of pooling in x, y dimensions and strides in x,y"
      ],
      "execution_count": 0,
      "outputs": []
    },
    {
      "metadata": {
        "id": "eN139tKcfBkQ",
        "colab_type": "text"
      },
      "cell_type": "markdown",
      "source": [
        "**Flatten Pooling Layers & Connect To Fully Connected Layer**"
      ]
    },
    {
      "metadata": {
        "id": "3knKJYOCfKgi",
        "colab_type": "code",
        "colab": {}
      },
      "cell_type": "code",
      "source": [
        "model.add(Flatten())"
      ],
      "execution_count": 0,
      "outputs": []
    },
    {
      "metadata": {
        "id": "Cym4b_7Ifwry",
        "colab_type": "text"
      },
      "cell_type": "markdown",
      "source": [
        "**Output Layer**"
      ]
    },
    {
      "metadata": {
        "id": "B5NZwOHzfymZ",
        "colab_type": "code",
        "colab": {}
      },
      "cell_type": "code",
      "source": [
        "model.add(Dense(1000, activation='relu'))\n",
        "model.add(Dense(1, activation='linear')) #gives one linear output layer for regression, if classification typically Dense(num_classes, activation='softmax'))"
      ],
      "execution_count": 0,
      "outputs": []
    },
    {
      "metadata": {
        "id": "sZLAin-e3bFw",
        "colab_type": "code",
        "outputId": "e0859686-a30a-474b-9a9a-9e67e1fee4bc",
        "colab": {
          "base_uri": "https://localhost:8080/",
          "height": 366
        }
      },
      "cell_type": "code",
      "source": [
        "model.summary()"
      ],
      "execution_count": 56,
      "outputs": [
        {
          "output_type": "stream",
          "text": [
            "_________________________________________________________________\n",
            "Layer (type)                 Output Shape              Param #   \n",
            "=================================================================\n",
            "conv1d_3 (Conv1D)            (None, 160, 256)          102656    \n",
            "_________________________________________________________________\n",
            "max_pooling1d_3 (MaxPooling1 (None, 97, 256)           0         \n",
            "_________________________________________________________________\n",
            "conv1d_4 (Conv1D)            (None, 97, 32)            8224      \n",
            "_________________________________________________________________\n",
            "max_pooling1d_4 (MaxPooling1 (None, 82, 32)            0         \n",
            "_________________________________________________________________\n",
            "flatten_2 (Flatten)          (None, 2624)              0         \n",
            "_________________________________________________________________\n",
            "dense_3 (Dense)              (None, 1000)              2625000   \n",
            "_________________________________________________________________\n",
            "dense_4 (Dense)              (None, 1)                 1001      \n",
            "=================================================================\n",
            "Total params: 2,736,881\n",
            "Trainable params: 2,736,881\n",
            "Non-trainable params: 0\n",
            "_________________________________________________________________\n"
          ],
          "name": "stdout"
        }
      ]
    },
    {
      "metadata": {
        "id": "p02FtifBhJM8",
        "colab_type": "text"
      },
      "cell_type": "markdown",
      "source": [
        "# Training Neural Network"
      ]
    },
    {
      "metadata": {
        "id": "3EsH9oQFbGZ5",
        "colab_type": "text"
      },
      "cell_type": "markdown",
      "source": [
        "**Compile Network**"
      ]
    },
    {
      "metadata": {
        "id": "M2p4LzdQbJ_6",
        "colab_type": "code",
        "colab": {}
      },
      "cell_type": "code",
      "source": [
        "model.compile(loss=keras.losses.mean_squared_error, #defines loss function and optimizer, standard cross entropy for categorical class classification #categorical_crossentropy\n",
        "              optimizer=keras.optimizers.Adam(),\n",
        "              metrics=['mse'])                       #specifies a metric that will be calculated during operation, ['accuracy'] useful for classification but not regression "
      ],
      "execution_count": 0,
      "outputs": []
    },
    {
      "metadata": {
        "id": "eAGAUfH_D7mh",
        "colab_type": "text"
      },
      "cell_type": "markdown",
      "source": [
        "**Hyperparameters**"
      ]
    },
    {
      "metadata": {
        "id": "ECg-MLoiD-Hr",
        "colab_type": "code",
        "colab": {}
      },
      "cell_type": "code",
      "source": [
        "batch_size = 150\n",
        "epochs = 10 #of iterations"
      ],
      "execution_count": 0,
      "outputs": []
    },
    {
      "metadata": {
        "id": "z25oIEXlh_38",
        "colab_type": "text"
      },
      "cell_type": "markdown",
      "source": [
        "**Tensorboard Parameter Config**"
      ]
    },
    {
      "metadata": {
        "id": "NjZQR1Sxavvr",
        "colab_type": "code",
        "colab": {}
      },
      "cell_type": "code",
      "source": [
        "tbCallBack = TensorBoard(log_dir='./log', histogram_freq=1,\n",
        "                         write_graph=True,\n",
        "                         write_grads=True,\n",
        "                         batch_size=batch_size)"
      ],
      "execution_count": 0,
      "outputs": []
    },
    {
      "metadata": {
        "id": "6-OPyN--iFbG",
        "colab_type": "text"
      },
      "cell_type": "markdown",
      "source": [
        "**Fit Model & Training Parameters**"
      ]
    },
    {
      "metadata": {
        "id": "zdbeBzP-ax-O",
        "colab_type": "code",
        "outputId": "ec7b618d-a539-4bb8-e5fb-494353275dd6",
        "colab": {
          "base_uri": "https://localhost:8080/",
          "height": 408
        }
      },
      "cell_type": "code",
      "source": [
        "model.fit(x=input_database,                        #pass in all training data, next define batch, training epochs, verbose defines what info is printed, x = input, y = output you are training model to output\n",
        "          y=output_database,\n",
        "          batch_size=batch_size,                   #pass validation or test data to the fit function so Keras knows what data to test metric against when evaluate is run on model\n",
        "          epochs=epochs, \n",
        "          verbose=1,                               #show realtime processing, =0 for no updates, =1 for progress bar =2 one line per epoch\n",
        "          #validation_split=0.5,                    #fraction of input_database used for training vs validation\n",
        "          validation_data = (validation_input, validation_output),\n",
        "          callbacks=[tbCallBack])"
      ],
      "execution_count": 91,
      "outputs": [
        {
          "output_type": "stream",
          "text": [
            "Train on 500 samples, validate on 50 samples\n",
            "Epoch 1/10\n",
            "500/500 [==============================] - 0s 790us/step - loss: 8.3840e-04 - mean_squared_error: 8.3840e-04 - val_loss: 0.1288 - val_mean_squared_error: 0.1288\n",
            "Epoch 2/10\n",
            "500/500 [==============================] - 0s 758us/step - loss: 7.6984e-04 - mean_squared_error: 7.6984e-04 - val_loss: 0.1298 - val_mean_squared_error: 0.1298\n",
            "Epoch 3/10\n",
            "500/500 [==============================] - 0s 759us/step - loss: 6.6155e-04 - mean_squared_error: 6.6155e-04 - val_loss: 0.1291 - val_mean_squared_error: 0.1291\n",
            "Epoch 4/10\n",
            "500/500 [==============================] - 0s 773us/step - loss: 5.8145e-04 - mean_squared_error: 5.8145e-04 - val_loss: 0.1290 - val_mean_squared_error: 0.1290\n",
            "Epoch 5/10\n",
            "500/500 [==============================] - 0s 785us/step - loss: 4.9115e-04 - mean_squared_error: 4.9115e-04 - val_loss: 0.1296 - val_mean_squared_error: 0.1296\n",
            "Epoch 6/10\n",
            "500/500 [==============================] - 0s 795us/step - loss: 4.2650e-04 - mean_squared_error: 4.2650e-04 - val_loss: 0.1291 - val_mean_squared_error: 0.1291\n",
            "Epoch 7/10\n",
            "500/500 [==============================] - 0s 797us/step - loss: 3.5605e-04 - mean_squared_error: 3.5605e-04 - val_loss: 0.1291 - val_mean_squared_error: 0.1291\n",
            "Epoch 8/10\n",
            "500/500 [==============================] - 0s 819us/step - loss: 3.0934e-04 - mean_squared_error: 3.0934e-04 - val_loss: 0.1288 - val_mean_squared_error: 0.1288\n",
            "Epoch 9/10\n",
            "500/500 [==============================] - 0s 798us/step - loss: 2.8450e-04 - mean_squared_error: 2.8450e-04 - val_loss: 0.1293 - val_mean_squared_error: 0.1293\n",
            "Epoch 10/10\n",
            "500/500 [==============================] - 0s 806us/step - loss: 2.2112e-04 - mean_squared_error: 2.2112e-04 - val_loss: 0.1295 - val_mean_squared_error: 0.1295\n"
          ],
          "name": "stdout"
        },
        {
          "output_type": "execute_result",
          "data": {
            "text/plain": [
              "<keras.callbacks.History at 0x7fd92a645210>"
            ]
          },
          "metadata": {
            "tags": []
          },
          "execution_count": 91
        }
      ]
    },
    {
      "metadata": {
        "id": "3PWvv4cO9hFb",
        "colab_type": "code",
        "colab": {}
      },
      "cell_type": "code",
      "source": [
        "#score = model.evaluate(output_database, , verbose=0)\n",
        "#print('Test loss:', score[0])\n",
        "#print('Test accuracy:', score[1])\n",
        "#plt.plot(range(1, 11), history.acc)\n",
        "#lt.xlabel('Epochs')\n",
        "#plt.ylabel('Accuracy')\n",
        "#plt.show()"
      ],
      "execution_count": 0,
      "outputs": []
    },
    {
      "metadata": {
        "id": "qaHw_pAE-5pe",
        "colab_type": "text"
      },
      "cell_type": "markdown",
      "source": [
        "**RT predictions with trained CNN**"
      ]
    },
    {
      "metadata": {
        "id": "5Jee3_ln-M3y",
        "colab_type": "code",
        "colab": {}
      },
      "cell_type": "code",
      "source": [
        "rt_predictions = model.predict(prediction_input, verbose=1)\n",
        "rt_predictions = np.around(rt_predictions,1)\n",
        "print(rt_predictions)"
      ],
      "execution_count": 0,
      "outputs": []
    },
    {
      "metadata": {
        "id": "krnIEDv4AHKa",
        "colab_type": "code",
        "outputId": "efdc0c31-eeaa-442d-daef-10a9757c588c",
        "colab": {
          "base_uri": "https://localhost:8080/",
          "height": 347
        }
      },
      "cell_type": "code",
      "source": [
        "plt.hist(rt_predictions, label = 'RT_Predictions', color = 'red', alpha = 0.5)\n",
        "plt.hist(prediction_database_rt_random, label = 'RT_answers', color = 'blue', alpha = 0.5)\n",
        "plt.show()"
      ],
      "execution_count": 93,
      "outputs": [
        {
          "output_type": "display_data",
          "data": {
            "image/png": "[encoded data removed]",
            "text/plain": [
              "<Figure size 576x396 with 1 Axes>"
            ]
          },
          "metadata": {
            "tags": []
          }
        }
      ]
    },
    {
      "metadata": {
        "id": "RY6YoV9YrX24",
        "colab_type": "code",
        "colab": {}
      },
      "cell_type": "code",
      "source": [
        ""
      ],
      "execution_count": 0,
      "outputs": []
    }
  ]
}