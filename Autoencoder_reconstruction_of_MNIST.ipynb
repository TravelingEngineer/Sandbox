{
  "nbformat": 4,
  "nbformat_minor": 0,
  "metadata": {
    "colab": {
      "name": "Autoencoder reconstruction of MNIST.ipynb",
      "version": "0.3.2",
      "provenance": [],
      "include_colab_link": true
    },
    "kernelspec": {
      "display_name": "Python 3",
      "language": "python",
      "name": "python3"
    },
    "accelerator": "GPU"
  },
  "cells": [
    {
      "cell_type": "markdown",
      "metadata": {
        "id": "view-in-github",
        "colab_type": "text"
      },
      "source": [
        "[View in Colaboratory](https://colab.research.google.com/github/TravelingEngineer/Sandbox/blob/master/Autoencoder_reconstruction_of_MNIST.ipynb)"
      ]
    },
    {
      "metadata": {
        "id": "WvfVrzq_ezHd",
        "colab_type": "code",
        "colab": {
          "base_uri": "https://localhost:8080/",
          "height": 35
        },
        "outputId": "6574dceb-1ff9-4d77-b6a5-5398618c7d90"
      },
      "cell_type": "code",
      "source": [
        "from keras.layers import Input, Dense\n",
        "from keras.models import Model\n",
        "from keras import regularizers\n",
        "\n",
        "# size of encoded representations\n",
        "encoding_dim = 32 #32 floats -> compression factor 24.5, w/ input 784 floats\n",
        "\n",
        "# input placeholder\n",
        "input_img = Input(shape=(784,))\n",
        "# \"encoded\" is representation of input\n",
        "#encoded = Dense(encoding_dim, activation='relu')(input_img)\n",
        "\n",
        "#dense layer with regularizer (sparsity constraint)\n",
        "encoded = Dense(encoding_dim, activation='relu',\n",
        "               activity_regularizer=regularizers.l1(10e-5))(input_img)\n",
        "# \"decoded\" is lossy reconstruction of input\n",
        "decoded = Dense(784, activation='sigmoid')(encoded)\n",
        "\n",
        "#this model maps an input to reconstruction represenation\n",
        "autoencoder = Model(input_img,decoded)\n",
        "#this model maps an input to encoded represenation\n",
        "encoder = Model(input_img,encoded)\n",
        "#create a placeholder for encoded (32-dimensional) input\n",
        "encoded_input = Input(shape=(encoding_dim,))\n",
        "# retrieve the last layer of the autoencoder model\n",
        "decoder_layer = autoencoder.layers[-1]\n",
        "#create the decoder model\n",
        "decoder = Model(encoded_input, decoder_layer(encoded_input))"
      ],
      "execution_count": 1,
      "outputs": [
        {
          "output_type": "stream",
          "text": [
            "Using TensorFlow backend.\n"
          ],
          "name": "stderr"
        }
      ]
    },
    {
      "metadata": {
        "id": "GoUCGzy6ZL39",
        "colab_type": "code",
        "colab": {}
      },
      "cell_type": "code",
      "source": [
        ""
      ],
      "execution_count": 0,
      "outputs": []
    },
    {
      "metadata": {
        "id": "IASVB2zvezHq",
        "colab_type": "code",
        "colab": {}
      },
      "cell_type": "code",
      "source": [
        "autoencoder.compile(optimizer='adadelta', loss='binary_crossentropy')"
      ],
      "execution_count": 0,
      "outputs": []
    },
    {
      "metadata": {
        "id": "fnlXmc8pezHy",
        "colab_type": "code",
        "colab": {
          "base_uri": "https://localhost:8080/",
          "height": 87
        },
        "outputId": "35afb05f-f25d-4f54-ba7e-e6380417eeb4"
      },
      "cell_type": "code",
      "source": [
        "from keras.datasets import mnist \n",
        "import numpy as np\n",
        "(x_train, _), (x_test, _) = mnist.load_data() \n",
        "\n",
        "#normalize data\n",
        "x_train = x_train.astype('float32')/255.\n",
        "x_test = x_test.astype('float32')/255.\n",
        "x_train = x_train.reshape((len(x_train), np.prod(x_train.shape[1:])))\n",
        "x_test = x_test.reshape((len(x_test), np.prod(x_test.shape[1:])))\n",
        "print (x_train.shape)\n",
        "print (x_test.shape)"
      ],
      "execution_count": 3,
      "outputs": [
        {
          "output_type": "stream",
          "text": [
            "Downloading data from https://s3.amazonaws.com/img-datasets/mnist.npz\n",
            "11493376/11490434 [==============================] - 7s 1us/step\n",
            "(60000, 784)\n",
            "(10000, 784)\n"
          ],
          "name": "stdout"
        }
      ]
    },
    {
      "metadata": {
        "id": "TK0segZ_ezH9",
        "colab_type": "code",
        "colab": {
          "base_uri": "https://localhost:8080/",
          "height": 1785
        },
        "outputId": "1d216b23-9ebf-4d14-8b52-4e957f9efdba"
      },
      "cell_type": "code",
      "source": [
        "#training for 50 epochs\n",
        "autoencoder.fit(x_train, x_train,\n",
        "               epochs=50,\n",
        "               batch_size=256,\n",
        "               shuffle=True,\n",
        "               validation_data=(x_test, x_test))"
      ],
      "execution_count": 4,
      "outputs": [
        {
          "output_type": "stream",
          "text": [
            "Train on 60000 samples, validate on 10000 samples\n",
            "Epoch 1/50\n",
            "60000/60000 [==============================] - 3s 44us/step - loss: 0.6731 - val_loss: 0.6484\n",
            "Epoch 2/50\n",
            "60000/60000 [==============================] - 2s 26us/step - loss: 0.6283 - val_loss: 0.6090\n",
            "Epoch 3/50\n",
            "60000/60000 [==============================] - 2s 26us/step - loss: 0.5916 - val_loss: 0.5749\n",
            "Epoch 4/50\n",
            "60000/60000 [==============================] - 2s 26us/step - loss: 0.5598 - val_loss: 0.5454\n",
            "Epoch 5/50\n",
            "60000/60000 [==============================] - 2s 26us/step - loss: 0.5323 - val_loss: 0.5198\n",
            "Epoch 6/50\n",
            "60000/60000 [==============================] - 2s 26us/step - loss: 0.5084 - val_loss: 0.4975\n",
            "Epoch 7/50\n",
            "60000/60000 [==============================] - 2s 26us/step - loss: 0.4875 - val_loss: 0.4780\n",
            "Epoch 8/50\n",
            "60000/60000 [==============================] - 2s 27us/step - loss: 0.4692 - val_loss: 0.4609\n",
            "Epoch 9/50\n",
            "60000/60000 [==============================] - 2s 26us/step - loss: 0.4531 - val_loss: 0.4457\n",
            "Epoch 10/50\n",
            "60000/60000 [==============================] - 2s 27us/step - loss: 0.4388 - val_loss: 0.4324\n",
            "Epoch 11/50\n",
            "60000/60000 [==============================] - 2s 26us/step - loss: 0.4262 - val_loss: 0.4205\n",
            "Epoch 12/50\n",
            "60000/60000 [==============================] - 2s 26us/step - loss: 0.4150 - val_loss: 0.4098\n",
            "Epoch 13/50\n",
            "60000/60000 [==============================] - 2s 26us/step - loss: 0.4049 - val_loss: 0.4003\n",
            "Epoch 14/50\n",
            "60000/60000 [==============================] - 2s 27us/step - loss: 0.3959 - val_loss: 0.3918\n",
            "Epoch 15/50\n",
            "60000/60000 [==============================] - 2s 26us/step - loss: 0.3877 - val_loss: 0.3840\n",
            "Epoch 16/50\n",
            "60000/60000 [==============================] - 2s 26us/step - loss: 0.3804 - val_loss: 0.3771\n",
            "Epoch 17/50\n",
            "60000/60000 [==============================] - 2s 26us/step - loss: 0.3737 - val_loss: 0.3707\n",
            "Epoch 18/50\n",
            "60000/60000 [==============================] - 2s 26us/step - loss: 0.3676 - val_loss: 0.3649\n",
            "Epoch 19/50\n",
            "60000/60000 [==============================] - 2s 27us/step - loss: 0.3621 - val_loss: 0.3596\n",
            "Epoch 20/50\n",
            "60000/60000 [==============================] - 2s 26us/step - loss: 0.3570 - val_loss: 0.3548\n",
            "Epoch 21/50\n",
            "60000/60000 [==============================] - 2s 26us/step - loss: 0.3524 - val_loss: 0.3503\n",
            "Epoch 22/50\n",
            "60000/60000 [==============================] - 2s 26us/step - loss: 0.3481 - val_loss: 0.3463\n",
            "Epoch 23/50\n",
            "60000/60000 [==============================] - 2s 26us/step - loss: 0.3442 - val_loss: 0.3425\n",
            "Epoch 24/50\n",
            "60000/60000 [==============================] - 2s 26us/step - loss: 0.3406 - val_loss: 0.3390\n",
            "Epoch 25/50\n",
            "60000/60000 [==============================] - 2s 26us/step - loss: 0.3372 - val_loss: 0.3357\n",
            "Epoch 26/50\n",
            "60000/60000 [==============================] - 2s 26us/step - loss: 0.3341 - val_loss: 0.3327\n",
            "Epoch 27/50\n",
            "60000/60000 [==============================] - 2s 27us/step - loss: 0.3312 - val_loss: 0.3299\n",
            "Epoch 28/50\n",
            "60000/60000 [==============================] - 2s 26us/step - loss: 0.3285 - val_loss: 0.3273\n",
            "Epoch 29/50\n",
            "60000/60000 [==============================] - 2s 26us/step - loss: 0.3259 - val_loss: 0.3249\n",
            "Epoch 30/50\n",
            "60000/60000 [==============================] - 2s 26us/step - loss: 0.3236 - val_loss: 0.3226\n",
            "Epoch 31/50\n",
            "60000/60000 [==============================] - 2s 26us/step - loss: 0.3213 - val_loss: 0.3204\n",
            "Epoch 32/50\n",
            "60000/60000 [==============================] - 2s 26us/step - loss: 0.3193 - val_loss: 0.3184\n",
            "Epoch 33/50\n",
            "60000/60000 [==============================] - 2s 26us/step - loss: 0.3173 - val_loss: 0.3165\n",
            "Epoch 34/50\n",
            "60000/60000 [==============================] - 2s 27us/step - loss: 0.3155 - val_loss: 0.3147\n",
            "Epoch 35/50\n",
            "60000/60000 [==============================] - 2s 26us/step - loss: 0.3138 - val_loss: 0.3131\n",
            "Epoch 36/50\n",
            "60000/60000 [==============================] - 2s 26us/step - loss: 0.3121 - val_loss: 0.3115\n",
            "Epoch 37/50\n",
            "60000/60000 [==============================] - 2s 26us/step - loss: 0.3106 - val_loss: 0.3100\n",
            "Epoch 38/50\n",
            "60000/60000 [==============================] - 2s 26us/step - loss: 0.3091 - val_loss: 0.3085\n",
            "Epoch 39/50\n",
            "60000/60000 [==============================] - 2s 26us/step - loss: 0.3077 - val_loss: 0.3072\n",
            "Epoch 40/50\n",
            "60000/60000 [==============================] - 2s 26us/step - loss: 0.3064 - val_loss: 0.3059\n",
            "Epoch 41/50\n",
            "60000/60000 [==============================] - 2s 27us/step - loss: 0.3052 - val_loss: 0.3047\n",
            "Epoch 42/50\n",
            "60000/60000 [==============================] - 2s 26us/step - loss: 0.3040 - val_loss: 0.3035\n",
            "Epoch 43/50\n",
            "60000/60000 [==============================] - 2s 26us/step - loss: 0.3029 - val_loss: 0.3024\n",
            "Epoch 44/50\n",
            "60000/60000 [==============================] - 2s 26us/step - loss: 0.3018 - val_loss: 0.3014\n",
            "Epoch 45/50\n",
            "60000/60000 [==============================] - 2s 27us/step - loss: 0.3008 - val_loss: 0.3004\n",
            "Epoch 46/50\n",
            "60000/60000 [==============================] - 2s 27us/step - loss: 0.2998 - val_loss: 0.2994\n",
            "Epoch 47/50\n",
            "60000/60000 [==============================] - 2s 27us/step - loss: 0.2989 - val_loss: 0.2985\n",
            "Epoch 48/50\n",
            "60000/60000 [==============================] - 2s 27us/step - loss: 0.2980 - val_loss: 0.2976\n",
            "Epoch 49/50\n",
            "60000/60000 [==============================] - 2s 26us/step - loss: 0.2971 - val_loss: 0.2968\n",
            "Epoch 50/50\n",
            "60000/60000 [==============================] - 2s 26us/step - loss: 0.2963 - val_loss: 0.2960\n"
          ],
          "name": "stdout"
        },
        {
          "output_type": "execute_result",
          "data": {
            "text/plain": [
              "<keras.callbacks.History at 0x7f048a2f2668>"
            ]
          },
          "metadata": {
            "tags": []
          },
          "execution_count": 4
        }
      ]
    },
    {
      "metadata": {
        "id": "75HwkYSkezIF",
        "colab_type": "code",
        "colab": {}
      },
      "cell_type": "code",
      "source": [
        "#encode and decode some digits\n",
        "#note use test set\n",
        "encoded_imgs = encoder.predict(x_test)\n",
        "decoded_imgs = decoder.predict(encoded_imgs)"
      ],
      "execution_count": 0,
      "outputs": []
    },
    {
      "metadata": {
        "id": "y6-SBPTPezIJ",
        "colab_type": "code",
        "colab": {
          "base_uri": "https://localhost:8080/",
          "height": 267
        },
        "outputId": "2bf5fc18-d3a2-4744-dbb3-ec1c02a2275d"
      },
      "cell_type": "code",
      "source": [
        "import matplotlib.pyplot as plt\n",
        "n=10 # how many digits to display\n",
        "plt.figure(figsize=(20,4))\n",
        "for i in range(n):\n",
        "    #display original\n",
        "    ax = plt.subplot(2,n,i+1)\n",
        "    plt.imshow(x_test[i].reshape(28,28))\n",
        "    plt.gray()\n",
        "    ax.get_xaxis().set_visible(False)\n",
        "    ax.get_xaxis().set_visible(False)\n",
        "    \n",
        "    #display reconstruction\n",
        "    ax=plt.subplot(2,n,i+1+n)\n",
        "    plt.imshow(decoded_imgs[i].reshape(28,28))\n",
        "    plt.gray()\n",
        "    ax.get_xaxis().set_visible(False)\n",
        "    ax.get_yaxis().set_visible(False)\n",
        "plt.show()"
      ],
      "execution_count": 6,
      "outputs": [
        {
          "output_type": "display_data",
          "data": {
            "image/png": "[encoded data removed]",
            "text/plain": [
              "<matplotlib.figure.Figure at 0x7f046f1ac278>"
            ]
          },
          "metadata": {
            "tags": []
          }
        }
      ]
    },
    {
      "metadata": {
        "id": "2CA4SamWezIP",
        "colab_type": "code",
        "colab": {}
      },
      "cell_type": "code",
      "source": [
        ""
      ],
      "execution_count": 0,
      "outputs": []
    }
  ]
}